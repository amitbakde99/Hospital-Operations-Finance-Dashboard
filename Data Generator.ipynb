{
  "metadata": {
    "kernelspec": {
      "display_name": "Python (Pyodide)",
      "language": "python",
      "name": "python"
    },
    "language_info": {
      "codemirror_mode": {
        "name": "python",
        "version": 3
      },
      "file_extension": ".py",
      "mimetype": "text/x-python",
      "name": "python",
      "nbconvert_exporter": "python",
      "pygments_lexer": "ipython3",
      "version": "3.8"
    }
  },
  "nbformat_minor": 5,
  "nbformat": 4,
  "cells": [
    {
      "id": "6df00652-b4af-462b-a840-07a1e16fe6a7",
      "cell_type": "code",
      "source": "import pandas as pd",
      "metadata": {
        "trusted": true
      },
      "outputs": [],
      "execution_count": 1
    },
    {
      "id": "ed1e6880-2ee3-4402-b2e2-c513ce815bc7",
      "cell_type": "code",
      "source": "import numpy as np\nimport pandas as pd\n\ndef generate_dummy_hospital_data(n_rows=500, seed=42):\n    # --- CRITICAL FIX ---\n    n_rows = int(n_rows)  # ensure integer even if 500.0 is passed\n\n    rng = np.random.default_rng(seed)\n\n    case_types = [\"OP\", \"IP\", \"DC\"]; case_type_p = [0.60, 0.30, 0.10]\n    surgical_mix_vals = [\"Surgery\", \"Medical\"]; surgical_mix_p = [0.40, 0.60]\n    doctor_status_vals = [\"Active\", \"Inactive\"]; doctor_status_p = [0.80, 0.20]\n    genders = [\"M\", \"F\"]; genders_p = [0.60, 0.40]\n    discharge_before_noon_target = (0.20, 0.25)\n\n    def sample_dob_year(size):\n        base = rng.choice([0, 1], size=int(size), p=[0.30, 0.70])\n        years = np.where(base == 1,\n                         rng.integers(1980, 2006, size=int(size)),\n                         rng.integers(1955, 1980, size=int(size)))\n        return years\n\n    nationalities = [\"UAE\",\"Oman\",\"India\",\"Indonesia\",\"Japan\",\"USA\",\"Netherlands\",\n                     \"Denmark\",\"Sri Lanka\",\"Germany\",\"Philippines\",\"Bangladesh\",\"Pakistan\",\"Egypt\"]\n    nat_p = np.array([0.15,0.05,0.20,0.05,0.03,0.05,0.03,0.03,0.03,0.04,0.10,0.08,0.08,0.08])\n    nat_p = nat_p / nat_p.sum()\n\n    doctors = [\n        (\"Dr. Shawn Martin\",\"ABC123\",\"Consultant\",\"Emergency\"),\n        (\"Dr. Lily James\",\"DEF232\",\"Specialist\",\"Cardiology\"),\n        (\"Dr. Thomas Muller\",\"ABC234\",\"Specialist\",\"Nephrology\"),\n        (\"Dr. Hana Suzuki\",\"FGH234\",\"Consultant\",\"General Surgery\"),\n        (\"Dr. Omar Khalid\",\"QWE123\",\"GP\",\"Family Medicine\"),\n        (\"Dr. Aisha Rahman\",\"QWE234\",\"Specialist\",\"Pulmonology\"),\n        (\"Dr. Peter Novak\",\"VBN123\",\"Consultant\",\"Orthopaedics\"),\n        (\"Dr. Priya Iyer\",\"HJK123\",\"Specialist\",\"Obstetrics & Gynecology\"),\n        (\"Dr. Ahmed Zayed\",\"ABC456\",\"Specialist\",\"Gastroenterology\"),\n        (\"Dr. Sofia Kim\",\"FGH123\",\"GP\",\"Internal Medicine\"),\n    ]\n    doc_weights = np.array([0.14,0.10,0.10,0.14,0.06,0.10,0.14,0.10,0.06,0.06]); doc_weights /= doc_weights.sum()\n\n    payers = [\"PureWin Insurance\",\"Goodhealth Insurance\",\"TotalHealth Insurance\",\n              \"Nextcare Insurance\",\"BlueMedic Charity\",\"Self-Pay Corporate\"]\n    payer_p = np.array([0.40,0.18,0.15,0.12,0.08,0.07]); payer_p /= payer_p.sum()\n    payer_plans = {\n        \"PureWin Insurance\":[\"Basic\",\"Advance\",\"Premium\"],\n        \"Goodhealth Insurance\":[\"GH-1\",\"GH-2\"],\n        \"TotalHealth Insurance\":[\"TH-Standard\",\"TH-Plus\"],\n        \"Nextcare Insurance\":[\"NC-Blue\",\"NC-Gold\"],\n        \"BlueMedic Charity\":[np.nan],\n        \"Self-Pay Corporate\":[np.nan],\n    }\n    payer_mix_map = {\n        \"PureWin Insurance\":\"Insurance\", \"Goodhealth Insurance\":\"Insurance\",\n        \"TotalHealth Insurance\":\"Insurance\", \"Nextcare Insurance\":\"Insurance\",\n        \"BlueMedic Charity\":\"Corporate\",\"Self-Pay Corporate\":\"Corporate\"\n    }\n\n    months = pd.date_range(\"2025-01-01\",\"2025-12-01\", freq=\"MS\")\n\n    month_col     = rng.choice(months, size=int(n_rows))\n    case_no       = rng.integers(123456000, 123999999, size=int(n_rows))\n    dob_years     = sample_dob_year(n_rows)\n    gender_col    = rng.choice(genders, size=int(n_rows), p=genders_p)\n    nationality   = rng.choice(nationalities, size=int(n_rows), p=nat_p)\n\n    doc_idx       = rng.choice(len(doctors), size=int(n_rows), p=doc_weights)\n    doctor_name   = np.array([doctors[i][0] for i in doc_idx])\n    doctor_license= np.array([doctors[i][1] for i in doc_idx])\n    doctor_type   = np.array([doctors[i][2] for i in doc_idx])\n    specialty     = np.array([doctors[i][3] for i in doc_idx])\n\n    doctor_status = rng.choice(doctor_status_vals, size=int(n_rows), p=doctor_status_p)\n    case_type     = rng.choice(case_types, size=int(n_rows), p=case_type_p)\n\n    los = np.zeros(int(n_rows), dtype=int)\n    dc_mask = case_type == \"DC\"; ip_mask = case_type == \"IP\"\n    los[dc_mask] = 1\n    ip_count = int(ip_mask.sum())\n    if ip_count > 0:\n        los[ip_mask] = rng.choice([2,3,4,5,6,7], size=ip_count, p=[0.10,0.25,0.30,0.20,0.10,0.05])\n\n    surgical_mix = rng.choice(surgical_mix_vals, size=int(n_rows), p=surgical_mix_p)\n    severity = rng.choice([1,2,3], size=int(n_rows), p=[0.35,0.45,0.20])\n\n    base_cmi = rng.normal(1.0, 0.1, size=int(n_rows))\n    base_cmi = np.clip(base_cmi, 0.75, 1.35)\n    base_cmi += (surgical_mix == \"Surgery\") * 0.07\n    base_cmi += (case_type == \"IP\") * 0.05\n    base_cmi += (severity - 2) * 0.04\n    cmi_val = np.round(base_cmi, 3)\n\n    payer = rng.choice(payers, size=int(n_rows), p=payer_p)\n    plan  = np.array([rng.choice(payer_plans[p]) for p in payer], dtype=object)\n    payer_mix = np.array([payer_mix_map[p] for p in payer])\n\n    # --- changed to object array so list-multiplication with NaT works everywhere\n    discharge_time = np.array([pd.NaT]*int(n_rows), dtype=object)\n\n    has_time = rng.random(int(n_rows))\n    prob_has_time = np.where(case_type==\"IP\", 0.90, np.where(case_type==\"DC\", 0.80, 0.30))\n    time_mask = has_time < prob_has_time\n\n    def random_time_series(size):\n        mins = rng.integers(0, 16*60, size=int(size))  # 06:00–22:00\n        return pd.to_datetime([\"2000-01-01\"]*int(size)) + pd.to_timedelta(6*60 + mins, unit=\"m\")\n\n    discharge_time[time_mask] = random_time_series(time_mask.sum()).to_pydatetime()\n\n    with_time_idx = np.where(pd.notna(discharge_time))[0]\n    if len(with_time_idx) > 0:\n        target_share = rng.uniform(*discharge_before_noon_target)\n        n_before = int(round(target_share * len(with_time_idx)))\n        before_idx = rng.choice(with_time_idx, size=n_before, replace=False)\n        mins = rng.integers(0, 6*60, size=n_before)\n        discharge_time[before_idx] = (\n            pd.to_datetime([\"2000-01-01\"]*n_before) + pd.to_timedelta(6*60 + mins, unit=\"m\")\n        ).to_pydatetime()\n\n    discharge_before_noon = np.array(\n        [\"Yes\" if (isinstance(ts, pd.Timestamp) or hasattr(ts, \"hour\")) and ts.hour < 12 else\n         (\"No\" if pd.notna(ts) else np.nan)\n         for ts in discharge_time], dtype=object\n    )\n\n    base_rev = np.where(case_type==\"OP\", rng.uniform(100, 1500, int(n_rows)),\n               np.where(case_type==\"DC\", rng.uniform(1500, 6000, int(n_rows)),\n                        rng.uniform(4000, 80000, int(n_rows))))\n    base_rev *= np.where(doctor_type==\"Consultant\", 1.35, np.where(doctor_type==\"Specialist\", 1.10, 0.90))\n    base_rev *= np.where(surgical_mix==\"Surgery\", 1.30, 1.00)\n    base_rev *= np.where(payer_mix==\"Corporate\", 0.85, 1.00)\n    base_rev *= np.where(payer==\"PureWin Insurance\", 1.08, 1.00)\n    base_rev *= np.where(severity==3, 1.15, np.where(severity==1, 0.93, 1.00))\n    base_rev *= rng.normal(1.0, 0.12, int(n_rows))\n    revenue = np.maximum(0, base_rev).round(0)\n    revenue *= np.where(doctor_status==\"Inactive\", rng.uniform(0.85, 0.95, int(n_rows)), 1.0)\n    revenue = revenue.round(0)\n\n    df = pd.DataFrame({\n        \"Month\": pd.to_datetime(month_col).date,\n        \"Case_No\": case_no.astype(float),\n        \"DOB\": dob_years.astype(float),\n        \"Nationality\": nationality,\n        \"Gender\": gender_col,\n        \"DoctorLicense\": doctor_license,\n        \"DoctorName\": doctor_name,\n        \"Doctor Type\": doctor_type,\n        \"Doctor Status\": doctor_status,\n        \"CMI Value\": cmi_val,\n        \"Specialty\": specialty,\n        \"Insurance/Payer\": payer,\n        \"InsurancePlanName\": plan,\n        \"Payer Mix\": payer_mix,\n        \"Case type\": case_type,\n        \"LOS\": los.astype(float),\n        \"Severity\": severity.astype(float),\n        \"Surgical Mix\": surgical_mix,\n        \"Discharge Time\": [ts.time() if pd.notna(ts) else pd.NaT for ts in discharge_time],\n        \"Discharge Before 12PM\": discharge_before_noon,\n        \"Revenue\": revenue.astype(float)\n    })\n\n    # keep ~40/60 Surgery:Medical globally\n    desired_surgery = int(round(0.40 * n_rows))\n    current_surgery = (df[\"Surgical Mix\"]==\"Surgery\").sum()\n    if current_surgery != desired_surgery:\n        diff = desired_surgery - current_surgery\n        if diff > 0:\n            idx = df.index[df[\"Surgical Mix\"]==\"Medical\"][:diff]\n            df.loc[idx, \"Surgical Mix\"] = \"Surgery\"\n            df.loc[idx, \"Revenue\"] = (df.loc[idx, \"Revenue\"] * 1.10).round(0)\n            df.loc[idx, \"CMI Value\"] = (df.loc[idx, \"CMI Value\"] + 0.05).round(3)\n        elif diff < 0:\n            idx = df.index[df[\"Surgical Mix\"]==\"Surgery\"][:abs(diff)]\n            df.loc[idx, \"Surgical Mix\"] = \"Medical\"\n            df.loc[idx, \"Revenue\"] = (df.loc[idx, \"Revenue\"] * 0.90).round(0)\n            df.loc[idx, \"CMI Value\"] = (df.loc[idx, \"CMI Value\"] - 0.05).round(3)\n\n    return df",
      "metadata": {
        "trusted": true
      },
      "outputs": [],
      "execution_count": 6
    },
    {
      "id": "fc419313-cd05-4fce-b060-5d6885da9b9a",
      "cell_type": "code",
      "source": "df = generate_dummy_hospital_data(n_rows=500, seed=42)\n\n#save\nout_path = \"dummy_hospital_generated.csv\"\ndf.to_csv(out_path, index=False)\n\nprint(f\"saved: {out_path} | rows: {len(df)}\")",
      "metadata": {
        "trusted": true
      },
      "outputs": [
        {
          "name": "stdout",
          "output_type": "stream",
          "text": "saved: dummy_hospital_generated.csv | rows: 500\n"
        }
      ],
      "execution_count": 16
    },
    {
      "id": "ee7c7459-fedf-4d74-bfd5-d4dba30aba68",
      "cell_type": "code",
      "source": "",
      "metadata": {
        "trusted": true
      },
      "outputs": [],
      "execution_count": null
    },
    {
      "id": "e47fcc93-1f91-41c2-9868-ede569bfbe95",
      "cell_type": "code",
      "source": "",
      "metadata": {
        "trusted": true
      },
      "outputs": [],
      "execution_count": null
    }
  ]
}